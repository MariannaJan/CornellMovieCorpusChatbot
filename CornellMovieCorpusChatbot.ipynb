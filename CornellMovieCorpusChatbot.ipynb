{
  "nbformat": 4,
  "nbformat_minor": 0,
  "metadata": {
    "colab": {
      "name": "CornellMovieCorpusChatbot.ipynb",
      "version": "0.3.2",
      "provenance": [],
      "collapsed_sections": [],
      "include_colab_link": true
    },
    "kernelspec": {
      "name": "python3",
      "display_name": "Python 3"
    },
    "accelerator": "GPU"
  },
  "cells": [
    {
      "cell_type": "markdown",
      "metadata": {
        "id": "view-in-github",
        "colab_type": "text"
      },
      "source": [
        "<a href=\"https://colab.research.google.com/github/MariannaJan/CornellMovieCorpusChatbot/blob/master/CornellMovieCorpusChatbot.ipynb\" target=\"_parent\"><img src=\"https://colab.research.google.com/assets/colab-badge.svg\" alt=\"Open In Colab\"/></a>"
      ]
    },
    {
      "metadata": {
        "id": "AmUkAE7AEavT",
        "colab_type": "code",
        "outputId": "9bf54011-a66b-481b-d59b-6f6f9b7a5549",
        "colab": {
          "base_uri": "https://localhost:8080/",
          "height": 252
        }
      },
      "cell_type": "code",
      "source": [
        "!pip uninstall tensorflow version==1.12.0"
      ],
      "execution_count": 2,
      "outputs": [
        {
          "output_type": "stream",
          "text": [
            "Uninstalling tensorflow-1.12.0:\n",
            "  Would remove:\n",
            "    /usr/local/bin/freeze_graph\n",
            "    /usr/local/bin/saved_model_cli\n",
            "    /usr/local/bin/tensorboard\n",
            "    /usr/local/bin/tflite_convert\n",
            "    /usr/local/bin/toco\n",
            "    /usr/local/bin/toco_from_protos\n",
            "    /usr/local/lib/python3.6/dist-packages/tensorflow-1.12.0.dist-info/*\n",
            "    /usr/local/lib/python3.6/dist-packages/tensorflow/*\n",
            "Proceed (y/n)? y\n",
            "y\n",
            "  Successfully uninstalled tensorflow-1.12.0\n",
            "\u001b[33mSkipping version as it is not installed.\u001b[0m\n"
          ],
          "name": "stdout"
        }
      ]
    },
    {
      "metadata": {
        "id": "gvx2OhifDqeI",
        "colab_type": "code",
        "outputId": "73af34df-0b7c-412a-d054-e08a0692766d",
        "colab": {
          "base_uri": "https://localhost:8080/",
          "height": 323
        }
      },
      "cell_type": "code",
      "source": [
        "!pip install https://files.pythonhosted.org/packages/48/58/b71480f9ec9d08d581d672a81b15ab5fec36a5fcda2093558a23614d8468/tensorflow-1.0.0-cp36-cp36m-manylinux1_x86_64.whl"
      ],
      "execution_count": 3,
      "outputs": [
        {
          "output_type": "stream",
          "text": [
            "Collecting tensorflow==1.0.0 from https://files.pythonhosted.org/packages/48/58/b71480f9ec9d08d581d672a81b15ab5fec36a5fcda2093558a23614d8468/tensorflow-1.0.0-cp36-cp36m-manylinux1_x86_64.whl\n",
            "\u001b[?25l  Downloading https://files.pythonhosted.org/packages/48/58/b71480f9ec9d08d581d672a81b15ab5fec36a5fcda2093558a23614d8468/tensorflow-1.0.0-cp36-cp36m-manylinux1_x86_64.whl (44.5MB)\n",
            "\u001b[K    100% |████████████████████████████████| 44.5MB 945kB/s \n",
            "\u001b[?25hRequirement already satisfied: numpy>=1.11.0 in /usr/local/lib/python3.6/dist-packages (from tensorflow==1.0.0) (1.14.6)\n",
            "Requirement already satisfied: protobuf>=3.1.0 in /usr/local/lib/python3.6/dist-packages (from tensorflow==1.0.0) (3.6.1)\n",
            "Requirement already satisfied: six>=1.10.0 in /usr/local/lib/python3.6/dist-packages (from tensorflow==1.0.0) (1.11.0)\n",
            "Requirement already satisfied: wheel>=0.26 in /usr/local/lib/python3.6/dist-packages (from tensorflow==1.0.0) (0.32.3)\n",
            "Requirement already satisfied: setuptools in /usr/local/lib/python3.6/dist-packages (from protobuf>=3.1.0->tensorflow==1.0.0) (40.7.1)\n",
            "\u001b[31mstable-baselines 2.2.1 has requirement tensorflow>=1.5.0, but you'll have tensorflow 1.0.0 which is incompatible.\u001b[0m\n",
            "\u001b[31mmagenta 0.3.19 has requirement tensorflow>=1.12.0, but you'll have tensorflow 1.0.0 which is incompatible.\u001b[0m\n",
            "Installing collected packages: tensorflow\n",
            "Successfully installed tensorflow-1.0.0\n"
          ],
          "name": "stdout"
        },
        {
          "output_type": "display_data",
          "data": {
            "application/vnd.colab-display-data+json": {
              "pip_warning": {
                "packages": [
                  "tensorflow"
                ]
              }
            }
          },
          "metadata": {
            "tags": []
          }
        }
      ]
    },
    {
      "metadata": {
        "id": "HJvjRWjuDpXT",
        "colab_type": "code",
        "outputId": "9364aa37-8adc-4fdb-af75-5562a6f8a209",
        "colab": {
          "base_uri": "https://localhost:8080/",
          "height": 34
        }
      },
      "cell_type": "code",
      "source": [
        "import tensorflow as tf\n",
        "print(tf.__version__)\n"
      ],
      "execution_count": 1,
      "outputs": [
        {
          "output_type": "stream",
          "text": [
            "1.0.0\n"
          ],
          "name": "stdout"
        }
      ]
    },
    {
      "metadata": {
        "id": "JJj2ZSCQrDQr",
        "colab_type": "code",
        "outputId": "345251e1-52d0-4a88-ac3f-07041d883719",
        "colab": {
          "base_uri": "https://localhost:8080/",
          "height": 121
        }
      },
      "cell_type": "code",
      "source": [
        "#mounting google drive\n",
        "\n",
        "from google.colab import drive\n",
        "drive.mount('/content/gdrive')"
      ],
      "execution_count": 2,
      "outputs": [
        {
          "output_type": "stream",
          "text": [
            "Go to this URL in a browser: https://accounts.google.com/o/oauth2/auth?client_id=947318989803-6bn6qk8qdgf4n4g3pfee6491hc0brc4i.apps.googleusercontent.com&redirect_uri=urn%3Aietf%3Awg%3Aoauth%3A2.0%3Aoob&scope=email%20https%3A%2F%2Fwww.googleapis.com%2Fauth%2Fdocs.test%20https%3A%2F%2Fwww.googleapis.com%2Fauth%2Fdrive%20https%3A%2F%2Fwww.googleapis.com%2Fauth%2Fdrive.photos.readonly%20https%3A%2F%2Fwww.googleapis.com%2Fauth%2Fpeopleapi.readonly&response_type=code\n",
            "\n",
            "Enter your authorization code:\n",
            "··········\n",
            "Mounted at /content/gdrive\n"
          ],
          "name": "stdout"
        }
      ]
    },
    {
      "metadata": {
        "id": "X_i5Mt1yS8WD",
        "colab_type": "code",
        "outputId": "3593d26b-d05f-4d14-bac2-eb09c6a05922",
        "colab": {
          "base_uri": "https://localhost:8080/",
          "height": 709
        }
      },
      "cell_type": "code",
      "source": [
        "#getting the Cornll Corpus Files\n",
        "!wget https://www.dropbox.com/s/o0t76yphs15vjva/movie_conversations.txt?dl=0\n",
        "!wget https://www.dropbox.com/s/z4n9j79vcloyt14/movie_lines.txt?dl=0  "
      ],
      "execution_count": 3,
      "outputs": [
        {
          "output_type": "stream",
          "text": [
            "--2019-02-02 09:40:26--  https://www.dropbox.com/s/o0t76yphs15vjva/movie_conversations.txt?dl=0\n",
            "Resolving www.dropbox.com (www.dropbox.com)... 162.125.3.1, 2620:100:6018:1::a27d:301\n",
            "Connecting to www.dropbox.com (www.dropbox.com)|162.125.3.1|:443... connected.\n",
            "HTTP request sent, awaiting response... 301 Moved Permanently\n",
            "Location: /s/raw/o0t76yphs15vjva/movie_conversations.txt [following]\n",
            "--2019-02-02 09:40:26--  https://www.dropbox.com/s/raw/o0t76yphs15vjva/movie_conversations.txt\n",
            "Reusing existing connection to www.dropbox.com:443.\n",
            "HTTP request sent, awaiting response... 302 Found\n",
            "Location: https://ucff222b5e995a001e911bbe8e15.dl.dropboxusercontent.com/cd/0/inline/AahanptjJBw28eCfCHAAPCRA5--yhHeZDjisuwmtBPUvWokXVeRlA7_wfKAyDDlAjjJzx3CSJ5RhggWcyAwu1rzi-Hlmraz-NGuw-XVkeiY5tw/file# [following]\n",
            "--2019-02-02 09:40:26--  https://ucff222b5e995a001e911bbe8e15.dl.dropboxusercontent.com/cd/0/inline/AahanptjJBw28eCfCHAAPCRA5--yhHeZDjisuwmtBPUvWokXVeRlA7_wfKAyDDlAjjJzx3CSJ5RhggWcyAwu1rzi-Hlmraz-NGuw-XVkeiY5tw/file\n",
            "Resolving ucff222b5e995a001e911bbe8e15.dl.dropboxusercontent.com (ucff222b5e995a001e911bbe8e15.dl.dropboxusercontent.com)... 162.125.8.6, 2620:100:6018:6::a27d:306\n",
            "Connecting to ucff222b5e995a001e911bbe8e15.dl.dropboxusercontent.com (ucff222b5e995a001e911bbe8e15.dl.dropboxusercontent.com)|162.125.8.6|:443... connected.\n",
            "HTTP request sent, awaiting response... 200 OK\n",
            "Length: 6760930 (6.4M) [text/plain]\n",
            "Saving to: ‘movie_conversations.txt?dl=0’\n",
            "\n",
            "movie_conversations 100%[===================>]   6.45M  29.9MB/s    in 0.2s    \n",
            "\n",
            "2019-02-02 09:40:27 (29.9 MB/s) - ‘movie_conversations.txt?dl=0’ saved [6760930/6760930]\n",
            "\n",
            "--2019-02-02 09:40:28--  https://www.dropbox.com/s/z4n9j79vcloyt14/movie_lines.txt?dl=0\n",
            "Resolving www.dropbox.com (www.dropbox.com)... 162.125.3.1, 2620:100:6018:1::a27d:301\n",
            "Connecting to www.dropbox.com (www.dropbox.com)|162.125.3.1|:443... connected.\n",
            "HTTP request sent, awaiting response... 301 Moved Permanently\n",
            "Location: /s/raw/z4n9j79vcloyt14/movie_lines.txt [following]\n",
            "--2019-02-02 09:40:28--  https://www.dropbox.com/s/raw/z4n9j79vcloyt14/movie_lines.txt\n",
            "Reusing existing connection to www.dropbox.com:443.\n",
            "HTTP request sent, awaiting response... 302 Found\n",
            "Location: https://uc045ff75bbd0472eae7ac5edc54.dl.dropboxusercontent.com/cd/0/inline/AaiSgbsJQTpxLnpaxaf3C_jN2V_1Wo9fO9F1AAJLcMAY1-OciOA4ScuFu8n-hi60zSFvpXwCNpzteSrUV_UKit5iPHjaqbFNo1Auo3iVEoBcOA/file# [following]\n",
            "--2019-02-02 09:40:29--  https://uc045ff75bbd0472eae7ac5edc54.dl.dropboxusercontent.com/cd/0/inline/AaiSgbsJQTpxLnpaxaf3C_jN2V_1Wo9fO9F1AAJLcMAY1-OciOA4ScuFu8n-hi60zSFvpXwCNpzteSrUV_UKit5iPHjaqbFNo1Auo3iVEoBcOA/file\n",
            "Resolving uc045ff75bbd0472eae7ac5edc54.dl.dropboxusercontent.com (uc045ff75bbd0472eae7ac5edc54.dl.dropboxusercontent.com)... 162.125.8.6, 2620:100:601b:6::a27d:806\n",
            "Connecting to uc045ff75bbd0472eae7ac5edc54.dl.dropboxusercontent.com (uc045ff75bbd0472eae7ac5edc54.dl.dropboxusercontent.com)|162.125.8.6|:443... connected.\n",
            "HTTP request sent, awaiting response... 200 OK\n",
            "Length: 34641919 (33M) [text/plain]\n",
            "Saving to: ‘movie_lines.txt?dl=0’\n",
            "\n",
            "movie_lines.txt?dl= 100%[===================>]  33.04M  61.3MB/s    in 0.5s    \n",
            "\n",
            "2019-02-02 09:40:30 (61.3 MB/s) - ‘movie_lines.txt?dl=0’ saved [34641919/34641919]\n",
            "\n"
          ],
          "name": "stdout"
        }
      ]
    },
    {
      "metadata": {
        "id": "sdWyRK4RrFPL",
        "colab_type": "code",
        "colab": {}
      },
      "cell_type": "code",
      "source": [
        "#path for the chatbot files on drive\n",
        "\n",
        "path = \"/content/\""
      ],
      "execution_count": 0,
      "outputs": []
    },
    {
      "metadata": {
        "id": "RvcuwrS64uaz",
        "colab_type": "code",
        "colab": {}
      },
      "cell_type": "code",
      "source": [
        "#reading in the conversations, returns list of lists\n",
        "\n",
        "def read_conversations():\n",
        "  filename = path + \"movie_conversations.txt?dl=0\"\n",
        "  conversations = []\n",
        "  with open(filename, \"r\", encoding=\"ISO-8859-1\") as conv_file:\n",
        "    for line in conv_file:\n",
        "      line_str = line.split(' +++$+++ ')[-1]\n",
        "      conversations.append(line_str[1:-2].replace(\"'\",\"\").replace(\" \",\"\").split(','))\n",
        "  return conversations"
      ],
      "execution_count": 0,
      "outputs": []
    },
    {
      "metadata": {
        "id": "tagn1tTr61ub",
        "colab_type": "code",
        "colab": {}
      },
      "cell_type": "code",
      "source": [
        "#reading the lines, creating a dictionary  {lineId: line_text}\n",
        "def read_lines():\n",
        "  filename = path + \"movie_lines.txt?dl=0\"\n",
        "  with open(filename, \"r\", encoding=\"ISO-8859-1\") as lines_file:\n",
        "    lines_chunks = [line.split(\" +++$+++ \") for line in lines_file]\n",
        "  return {line[0]: line[-1].strip() for line in lines_chunks}\n",
        "    "
      ],
      "execution_count": 0,
      "outputs": []
    },
    {
      "metadata": {
        "id": "IvXvNnCNpdja",
        "colab_type": "code",
        "colab": {}
      },
      "cell_type": "code",
      "source": [
        "#SANITIZING THE DATA\n",
        "\n",
        "\n",
        "EN_WHITELIST = '0123456789abcdefghijklmnopqrstuvwxyz ' # space is included in whitelist\n",
        "EN_BLACKLIST = '!\"#$%&\\'()*+,-./:;<=>?@[\\\\]^_`{|}~\\''\n",
        "\n",
        "def remove_blacklisted(line):\n",
        "  return ''.join([ch for ch in line if ch in EN_WHITELIST])\n",
        "\n",
        "def remove_blank(line):\n",
        "  return [l for l in line if l]\n",
        "\n",
        "def prepare_line(line):\n",
        "  return remove_blank(remove_blacklisted(line.lower()).split(\" \"))"
      ],
      "execution_count": 0,
      "outputs": []
    },
    {
      "metadata": {
        "id": "9KSj6LtZETt2",
        "colab_type": "code",
        "colab": {}
      },
      "cell_type": "code",
      "source": [
        "#turning conversations into question-answer structure and braking them into single words - tokens\n",
        "\n",
        "def get_tokenized_sequencial_sentences():\n",
        "  conversations = read_conversations()\n",
        "  line_text = read_lines()\n",
        "  \n",
        "  tokenized_sentences = []\n",
        "  \n",
        "  for conversation in conversations:\n",
        "       for i in range(len(conversation) - 1):\n",
        "          tokenized_sentences.append([prepare_line(line_text[conversation[i]]),prepare_line(line_text[conversation[i+1]])])\n",
        "          \n",
        "  return tokenized_sentences"
      ],
      "execution_count": 0,
      "outputs": []
    },
    {
      "metadata": {
        "id": "dhJqo5_gJ-ff",
        "colab_type": "code",
        "colab": {}
      },
      "cell_type": "code",
      "source": [
        "#getting only sentences of the specified min / max length\n",
        "\n",
        "MIN_LENGTH = 2\n",
        "MAX_LENGTH = 25\n",
        "\n",
        "def choose_conv_by_length():\n",
        "  dataset = []\n",
        "  tokenized_sentences = get_tokenized_sequencial_sentences()\n",
        "  for row in tokenized_sentences:\n",
        "      if ((MIN_LENGTH < len(row[0]) < MAX_LENGTH) and (MIN_LENGTH < len(row[1]) < MAX_LENGTH)):\n",
        "          dataset.append([row[0], row[1]])\n",
        "  return dataset[:30000] #reducing dataset to save memory\n",
        "                           \n",
        "\n"
      ],
      "execution_count": 0,
      "outputs": []
    },
    {
      "metadata": {
        "id": "rUJBPqDjz8B_",
        "colab_type": "code",
        "colab": {}
      },
      "cell_type": "code",
      "source": [
        "chosen_dataset = choose_conv_by_length()"
      ],
      "execution_count": 0,
      "outputs": []
    },
    {
      "metadata": {
        "id": "t1H6kC-bNyzF",
        "colab_type": "code",
        "colab": {}
      },
      "cell_type": "code",
      "source": [
        "#creating dictionaries\n",
        "\n",
        "def create_dicts():\n",
        "\n",
        "  #encoding dictionaries\n",
        "  questions_dictionary_word_to_idx = {}\n",
        "  answers_dictionary_word_to_idx = {}\n",
        "\n",
        "  #decoding dictionaries\n",
        "  questions_dictionary_idx_to_word = {}\n",
        "  answers_dictionary_idx_to_word  = {}\n",
        "\n",
        "  question_idx = 1\n",
        "  answer_idx = 1\n",
        "\n",
        "  for row in chosen_dataset:\n",
        "      for word in row[0]:\n",
        "        if word not in questions_dictionary_word_to_idx:\n",
        "          questions_dictionary_word_to_idx[word] = question_idx\n",
        "          questions_dictionary_idx_to_word[question_idx] = word\n",
        "          question_idx +=1\n",
        "      for word in row[1]:\n",
        "        if word not in answers_dictionary_word_to_idx:\n",
        "          answers_dictionary_word_to_idx[word] = answer_idx\n",
        "          answers_dictionary_idx_to_word[answer_idx] = word\n",
        "          answer_idx +=1\n",
        "          \n",
        "  return (questions_dictionary_word_to_idx, answers_dictionary_word_to_idx, questions_dictionary_idx_to_word, answers_dictionary_idx_to_word)"
      ],
      "execution_count": 0,
      "outputs": []
    },
    {
      "metadata": {
        "id": "gYygEFN_t_LA",
        "colab_type": "code",
        "colab": {}
      },
      "cell_type": "code",
      "source": [
        "\n",
        "questions_dictionary_word_to_idx, answers_dictionary_word_to_idx, questions_dictionary_idx_to_word, answers_dictionary_idx_to_word = create_dicts()\n",
        "\n"
      ],
      "execution_count": 0,
      "outputs": []
    },
    {
      "metadata": {
        "id": "kOQrx9EouCSD",
        "colab_type": "code",
        "colab": {}
      },
      "cell_type": "code",
      "source": [
        "#encoding questions and answers and zero padding\n",
        "\n",
        "def encode_questions_and_answers(dataset_to_encode):\n",
        "  dataset = dataset_to_encode.copy()\n",
        "  for row in dataset:\n",
        "    for idx, word in enumerate(row[0]):\n",
        "      row[0][idx] = questions_dictionary_word_to_idx[word]\n",
        "    for idx, word in enumerate(row[1]):   \n",
        "      row[1][idx] = answers_dictionary_word_to_idx[word]                    \n",
        "  return dataset\n",
        "\n",
        "def make_zero_padding(dataset_to_pad):\n",
        "    dataset = dataset_to_pad[:]\n",
        "    \n",
        "    for row in dataset:\n",
        "      if (len(row[0]) < MAX_LENGTH):\n",
        "        zeros1 = (MAX_LENGTH-len(row[0]))*[0]\n",
        "        row[0]= row[0] + zeros1\n",
        "      if (len(row[1]) < MAX_LENGTH):\n",
        "        zeros2 = (MAX_LENGTH-len(row[1])) * [0]\n",
        "        row[1] = row[1] + zeros2\n",
        "    return dataset"
      ],
      "execution_count": 0,
      "outputs": []
    },
    {
      "metadata": {
        "id": "UgDqzjhZwF8O",
        "colab_type": "code",
        "colab": {}
      },
      "cell_type": "code",
      "source": [
        "enc = encode_questions_and_answers(chosen_dataset)\n",
        "pad = make_zero_padding(enc)"
      ],
      "execution_count": 0,
      "outputs": []
    },
    {
      "metadata": {
        "id": "SuP0gPbZaVC3",
        "colab_type": "code",
        "colab": {}
      },
      "cell_type": "code",
      "source": [
        "#importing TensorFlow and model\n",
        "\n",
        "#import tensorflow as tf\n",
        "from tensorflow.contrib import seq2seq"
      ],
      "execution_count": 0,
      "outputs": []
    },
    {
      "metadata": {
        "id": "WnZuCOjinAwj",
        "colab_type": "code",
        "outputId": "553eb70a-cec0-46aa-ade7-44b60b35faa4",
        "colab": {
          "base_uri": "https://localhost:8080/",
          "height": 34
        }
      },
      "cell_type": "code",
      "source": [
        "#create list for bucket sizes\n",
        "\n",
        "buckets = len(pad) * [(MAX_LENGTH,MAX_LENGTH)]\n",
        "\n",
        "print(buckets[0])"
      ],
      "execution_count": 17,
      "outputs": [
        {
          "output_type": "stream",
          "text": [
            "(25, 25)\n"
          ],
          "name": "stdout"
        }
      ]
    },
    {
      "metadata": {
        "id": "bCsdnnuqevdC",
        "colab_type": "code",
        "colab": {}
      },
      "cell_type": "code",
      "source": [
        "model_dir = \"/content/gdrive/My Drive/Chatbot\"\n",
        "model_checkpoints = model_dir + \"/chatbot.ckpt\""
      ],
      "execution_count": 0,
      "outputs": []
    },
    {
      "metadata": {
        "id": "yPsh2vYVgfha",
        "colab_type": "text"
      },
      "cell_type": "markdown",
      "source": [
        "This function calls the constructor of the model, passing the following parameters:\n",
        "\n",
        "The source vocabulary size (German, in our example)\n",
        "The target vocabulary size (English, in our example)\n",
        "The buckets (in our example is just one, since we padded all the sequences to a single size)\n",
        "The long short-term memory (LSTM) internal units size\n",
        "The number of stacked LSTM layers\n",
        "The maximum norm of the gradient (for gradient clipping)\n",
        "The mini-batch size (that is, how many observations for each training step)\n",
        "The learning rate\n",
        "The learning rate decay factor\n",
        "The direction of the model\n",
        "The type of data (in our example, we will use flat16, that is, float using 2 bytes)"
      ]
    },
    {
      "metadata": {
        "id": "YFZsWUj2jQCt",
        "colab_type": "code",
        "colab": {}
      },
      "cell_type": "code",
      "source": [
        "data_set = pad"
      ],
      "execution_count": 0,
      "outputs": []
    },
    {
      "metadata": {
        "id": "0iBCVCIysPWK",
        "colab_type": "text"
      },
      "cell_type": "markdown",
      "source": [
        "[GitHub repo for the model](https://raw.githubusercontent.com/marcotcr/tf-models/master/tutorials/rnn/translate/seq2seq_model.py)"
      ]
    },
    {
      "metadata": {
        "id": "R-ZK3czV3Nn1",
        "colab_type": "code",
        "colab": {}
      },
      "cell_type": "code",
      "source": [
        "# Copyright 2015 The TensorFlow Authors. All Rights Reserved.\n",
        "#\n",
        "# Licensed under the Apache License, Version 2.0 (the \"License\");\n",
        "# you may not use this file except in compliance with the License.\n",
        "# You may obtain a copy of the License at\n",
        "#\n",
        "#     http://www.apache.org/licenses/LICENSE-2.0\n",
        "#\n",
        "# Unless required by applicable law or agreed to in writing, software\n",
        "# distributed under the License is distributed on an \"AS IS\" BASIS,\n",
        "# WITHOUT WARRANTIES OR CONDITIONS OF ANY KIND, either express or implied.\n",
        "# See the License for the specific language governing permissions and\n",
        "# limitations under the License.\n",
        "# ==============================================================================\n",
        "\n",
        "\"\"\"Sequence-to-sequence model with an attention mechanism.\"\"\"\n",
        "\n",
        "from __future__ import absolute_import\n",
        "from __future__ import division\n",
        "from __future__ import print_function\n",
        "\n",
        "import random\n",
        "\n",
        "import numpy as np\n",
        "from six.moves import xrange  # pylint: disable=redefined-builtin\n",
        "import tensorflow as tf\n",
        "\n",
        "\n",
        "class Seq2SeqModel(object):\n",
        "  \"\"\"Sequence-to-sequence model with attention and for multiple buckets.\n",
        "  This class implements a multi-layer recurrent neural network as encoder,\n",
        "  and an attention-based decoder. This is the same as the model described in\n",
        "  this paper: http://arxiv.org/abs/1412.7449 - please look there for details,\n",
        "  or into the seq2seq library for complete model implementation.\n",
        "  This class also allows to use GRU cells in addition to LSTM cells, and\n",
        "  sampled softmax to handle large output vocabulary size. A single-layer\n",
        "  version of this model, but with bi-directional encoder, was presented in\n",
        "    http://arxiv.org/abs/1409.0473\n",
        "  and sampled softmax is described in Section 3 of the following paper.\n",
        "    http://arxiv.org/abs/1412.2007\n",
        "  \"\"\"\n",
        "\n",
        "  def __init__(self,\n",
        "               source_vocab_size,\n",
        "               target_vocab_size,\n",
        "               buckets,\n",
        "               size,\n",
        "               num_layers,\n",
        "               max_gradient_norm,\n",
        "               batch_size,\n",
        "               learning_rate,\n",
        "               learning_rate_decay_factor,\n",
        "               use_lstm=False,\n",
        "               num_samples=512,\n",
        "               forward_only=False,\n",
        "               dtype=tf.float32):\n",
        "    \"\"\"Create the model.\n",
        "    Args:\n",
        "      source_vocab_size: size of the source vocabulary.\n",
        "      target_vocab_size: size of the target vocabulary.\n",
        "      buckets: a list of pairs (I, O), where I specifies maximum input length\n",
        "        that will be processed in that bucket, and O specifies maximum output\n",
        "        length. Training instances that have inputs longer than I or outputs\n",
        "        longer than O will be pushed to the next bucket and padded accordingly.\n",
        "        We assume that the list is sorted, e.g., [(2, 4), (8, 16)].\n",
        "      size: number of units in each layer of the model.\n",
        "      num_layers: number of layers in the model.\n",
        "      max_gradient_norm: gradients will be clipped to maximally this norm.\n",
        "      batch_size: the size of the batches used during training;\n",
        "        the model construction is independent of batch_size, so it can be\n",
        "        changed after initialization if this is convenient, e.g., for decoding.\n",
        "      learning_rate: learning rate to start with.\n",
        "      learning_rate_decay_factor: decay learning rate by this much when needed.\n",
        "      use_lstm: if true, we use LSTM cells instead of GRU cells.\n",
        "      num_samples: number of samples for sampled softmax.\n",
        "      forward_only: if set, we do not construct the backward pass in the model.\n",
        "      dtype: the data type to use to store internal variables.\n",
        "    \"\"\"\n",
        "    self.source_vocab_size = source_vocab_size\n",
        "    self.target_vocab_size = target_vocab_size\n",
        "    self.buckets = buckets\n",
        "    self.batch_size = batch_size\n",
        "    self.learning_rate = tf.Variable(\n",
        "        float(learning_rate), trainable=False, dtype=dtype)\n",
        "    self.learning_rate_decay_op = self.learning_rate.assign(\n",
        "        self.learning_rate * learning_rate_decay_factor)\n",
        "    self.global_step = tf.Variable(0, trainable=False)\n",
        "\n",
        "    # If we use sampled softmax, we need an output projection.\n",
        "    output_projection = None\n",
        "    softmax_loss_function = None\n",
        "    # Sampled softmax only makes sense if we sample less than vocabulary size.\n",
        "    if num_samples > 0 and num_samples < self.target_vocab_size:\n",
        "      w_t = tf.get_variable(\"proj_w\", [self.target_vocab_size, size], dtype=dtype)\n",
        "      w = tf.transpose(w_t)\n",
        "      b = tf.get_variable(\"proj_b\", [self.target_vocab_size], dtype=dtype)\n",
        "      output_projection = (w, b)\n",
        "\n",
        "      def sampled_loss(labels, inputs):\n",
        "        labels = tf.reshape(labels, [-1, 1])\n",
        "        # We need to compute the sampled_softmax_loss using 32bit floats to\n",
        "        # avoid numerical instabilities.\n",
        "        local_w_t = tf.cast(w_t, tf.float32)\n",
        "        local_b = tf.cast(b, tf.float32)\n",
        "        local_inputs = tf.cast(inputs, tf.float32)\n",
        "        return tf.cast(\n",
        "            tf.nn.sampled_softmax_loss(\n",
        "                weights=local_w_t,\n",
        "                biases=local_b,\n",
        "                labels=labels,\n",
        "                inputs=local_inputs,\n",
        "                num_sampled=num_samples,\n",
        "                num_classes=self.target_vocab_size),\n",
        "            dtype)\n",
        "      softmax_loss_function = sampled_loss\n",
        "\n",
        "    # Create the internal multi-layer cell for our RNN.\n",
        "    def single_cell():\n",
        "      #gated recurrent unit\n",
        "      return tf.contrib.rnn.GRUCell(size)\n",
        "    if use_lstm:\n",
        "      #long short term memory\n",
        "      def single_cell():\n",
        "        return tf.contrib.rnn.BasicLSTMCell(size)\n",
        "    cell = single_cell()\n",
        "    if num_layers > 1:\n",
        "      cell = tf.contrib.rnn.MultiRNNCell([single_cell() for _ in range(num_layers)])\n",
        "\n",
        "    # The seq2seq function: we use embedding for the input and attention.\n",
        "    def seq2seq_f(encoder_inputs, decoder_inputs, do_decode):\n",
        "      return tf.contrib.legacy_seq2seq.embedding_attention_seq2seq(\n",
        "          encoder_inputs,\n",
        "          decoder_inputs,\n",
        "          cell,\n",
        "          num_encoder_symbols=source_vocab_size,\n",
        "          num_decoder_symbols=target_vocab_size,\n",
        "          embedding_size=size,\n",
        "          output_projection=output_projection,\n",
        "          feed_previous=do_decode,\n",
        "          dtype=dtype)\n",
        "\n",
        "    # Feeds for inputs.\n",
        "    self.encoder_inputs = []\n",
        "    self.decoder_inputs = []\n",
        "    self.target_weights = []\n",
        "    for i in xrange(buckets[-1][0]):  # Last bucket is the biggest one.\n",
        "      self.encoder_inputs.append(tf.placeholder(tf.int32, shape=[None],\n",
        "                                                name=\"encoder{0}\".format(i)))\n",
        "    for i in xrange(buckets[-1][1] + 1):\n",
        "      self.decoder_inputs.append(tf.placeholder(tf.int32, shape=[None],\n",
        "                                                name=\"decoder{0}\".format(i)))\n",
        "      self.target_weights.append(tf.placeholder(dtype, shape=[None],\n",
        "                                                name=\"weight{0}\".format(i)))\n",
        "\n",
        "    # Our targets are decoder inputs shifted by one.\n",
        "    targets = [self.decoder_inputs[i + 1]\n",
        "               for i in xrange(len(self.decoder_inputs) - 1)]\n",
        "\n",
        "    # Training outputs and losses.\n",
        "    if forward_only:\n",
        "      self.outputs, self.losses = tf.contrib.legacy_seq2seq.model_with_buckets(\n",
        "          self.encoder_inputs, self.decoder_inputs, targets,\n",
        "          self.target_weights, buckets, lambda x, y: seq2seq_f(x, y, True),\n",
        "          softmax_loss_function=softmax_loss_function)\n",
        "      # If we use output projection, we need to project outputs for decoding.\n",
        "      if output_projection is not None:\n",
        "        for b in xrange(len(buckets)):\n",
        "          self.outputs[b] = [\n",
        "              tf.matmul(output, output_projection[0]) + output_projection[1]\n",
        "              for output in self.outputs[b]\n",
        "          ]\n",
        "    else:\n",
        "      self.outputs, self.losses = tf.contrib.legacy_seq2seq.model_with_buckets(\n",
        "          self.encoder_inputs, self.decoder_inputs, targets,\n",
        "          self.target_weights, buckets,\n",
        "          lambda x, y: seq2seq_f(x, y, False),\n",
        "          softmax_loss_function=softmax_loss_function)\n",
        "\n",
        "    # Gradients and SGD update operation for training the model.\n",
        "    params = tf.trainable_variables()\n",
        "    if not forward_only:\n",
        "      self.gradient_norms = []\n",
        "      self.updates = []\n",
        "      opt = tf.train.GradientDescentOptimizer(self.learning_rate)\n",
        "      for b in xrange(len(buckets)):\n",
        "        gradients = tf.gradients(self.losses[b], params)\n",
        "        clipped_gradients, norm = tf.clip_by_global_norm(gradients,\n",
        "                                                         max_gradient_norm)\n",
        "        self.gradient_norms.append(norm)\n",
        "        self.updates.append(opt.apply_gradients(\n",
        "            zip(clipped_gradients, params), global_step=self.global_step))\n",
        "\n",
        "    self.saver = tf.train.Saver(tf.global_variables())\n",
        "\n",
        "  def step(self, session, encoder_inputs, decoder_inputs, target_weights,\n",
        "           bucket_id, forward_only):\n",
        "    \"\"\"Run a step of the model feeding the given inputs.\n",
        "    Args:\n",
        "      session: tensorflow session to use.\n",
        "      encoder_inputs: list of numpy int vectors to feed as encoder inputs.\n",
        "      decoder_inputs: list of numpy int vectors to feed as decoder inputs.\n",
        "      target_weights: list of numpy float vectors to feed as target weights.\n",
        "      bucket_id: which bucket of the model to use.\n",
        "      forward_only: whether to do the backward step or only forward.\n",
        "    Returns:\n",
        "      A triple consisting of gradient norm (or None if we did not do backward),\n",
        "      average perplexity, and the outputs.\n",
        "    Raises:\n",
        "      ValueError: if length of encoder_inputs, decoder_inputs, or\n",
        "        target_weights disagrees with bucket size for the specified bucket_id.\n",
        "    \"\"\"\n",
        "    # Check if the sizes match.\n",
        "    encoder_size, decoder_size = self.buckets[bucket_id]\n",
        "    if len(encoder_inputs) != encoder_size:\n",
        "      raise ValueError(\"Encoder length must be equal to the one in bucket,\"\n",
        "                       \" %d != %d.\" % (len(encoder_inputs), encoder_size))\n",
        "    if len(decoder_inputs) != decoder_size:\n",
        "      raise ValueError(\"Decoder length must be equal to the one in bucket,\"\n",
        "                       \" %d != %d.\" % (len(decoder_inputs), decoder_size))\n",
        "    if len(target_weights) != decoder_size:\n",
        "      raise ValueError(\"Weights length must be equal to the one in bucket,\"\n",
        "                       \" %d != %d.\" % (len(target_weights), decoder_size))\n",
        "\n",
        "    # Input feed: encoder inputs, decoder inputs, target_weights, as provided.\n",
        "    input_feed = {}\n",
        "    for l in xrange(encoder_size):\n",
        "      input_feed[self.encoder_inputs[l].name] = encoder_inputs[l]\n",
        "    for l in xrange(decoder_size):\n",
        "      input_feed[self.decoder_inputs[l].name] = decoder_inputs[l]\n",
        "      input_feed[self.target_weights[l].name] = target_weights[l]\n",
        "\n",
        "    # Since our targets are decoder inputs shifted by one, we need one more.\n",
        "    last_target = self.decoder_inputs[decoder_size].name\n",
        "    input_feed[last_target] = np.zeros([self.batch_size], dtype=np.int32)\n",
        "\n",
        "    # Output feed: depends on whether we do a backward step or not.\n",
        "    if not forward_only:\n",
        "      output_feed = [self.updates[bucket_id],  # Update Op that does SGD.\n",
        "                     self.gradient_norms[bucket_id],  # Gradient norm.\n",
        "                     self.losses[bucket_id]]  # Loss for this batch.\n",
        "    else:\n",
        "      output_feed = [self.losses[bucket_id]]  # Loss for this batch.\n",
        "      for l in xrange(decoder_size):  # Output logits.\n",
        "        output_feed.append(self.outputs[bucket_id][l])\n",
        "\n",
        "    outputs = session.run(output_feed, input_feed)\n",
        "    if not forward_only:\n",
        "      return outputs[1], outputs[2], None  # Gradient norm, loss, no outputs.\n",
        "    else:\n",
        "      return None, outputs[0], outputs[1:]  # No gradient norm, loss, outputs.\n",
        "\n",
        "  def get_batch(self, data, bucket_id):\n",
        "    \"\"\"Get a random batch of data from the specified bucket, prepare for step.\n",
        "    To feed data in step(..) it must be a list of batch-major vectors, while\n",
        "    data here contains single length-major cases. So the main logic of this\n",
        "    function is to re-index data cases to be in the proper format for feeding.\n",
        "    Args:\n",
        "      data: a tuple of size len(self.buckets) in which each element contains\n",
        "        lists of pairs of input and output data that we use to create a batch.\n",
        "      bucket_id: integer, which bucket to get the batch for.\n",
        "    Returns:\n",
        "      The triple (encoder_inputs, decoder_inputs, target_weights) for\n",
        "      the constructed batch that has the proper format to call step(...) later.\n",
        "    \"\"\"\n",
        "    encoder_size, decoder_size = self.buckets[bucket_id]\n",
        "    encoder_inputs, decoder_inputs = [], []\n",
        "\n",
        "    # Get a random batch of encoder and decoder inputs from data,\n",
        "    # pad them if needed, reverse encoder inputs and add GO to decoder.\n",
        "    for _ in xrange(self.batch_size):\n",
        "      encoder_input, decoder_input = random.choice(data[bucket_id])\n",
        "      \n",
        "      # Encoder inputs are reversed.\n",
        "      encoder_inputs.append(list(reversed(encoder_input)))\n",
        "\n",
        "      # Decoder inputs \n",
        "      decoder_inputs.append(decoder_input)\n",
        "\n",
        "    # Now we create batch-major vectors from the data selected above.\n",
        "    batch_encoder_inputs, batch_decoder_inputs, batch_weights = [], [], []\n",
        "\n",
        "    # Batch encoder inputs are just re-indexed encoder_inputs.\n",
        "    for length_idx in xrange(encoder_size):\n",
        "      batch_encoder_inputs.append(\n",
        "          np.array([encoder_inputs[batch_idx][length_idx]\n",
        "                    for batch_idx in xrange(self.batch_size)], dtype=np.int32))\n",
        "\n",
        "    # Batch decoder inputs are re-indexed decoder_inputs, we create weights.\n",
        "    for length_idx in xrange(decoder_size):\n",
        "      batch_decoder_inputs.append(\n",
        "          np.array([decoder_inputs[batch_idx][length_idx]\n",
        "                    for batch_idx in xrange(self.batch_size)], dtype=np.int32))\n",
        "\n",
        "      # Create target_weights to be 0 for targets that are padding.\n",
        "      batch_weight = np.ones(self.batch_size, dtype=np.float32)\n",
        "      for batch_idx in xrange(self.batch_size):\n",
        "        # We set weight to 0 if the corresponding target is a PAD symbol.\n",
        "        # The corresponding target is decoder_input shifted by 1 forward.\n",
        "        if length_idx < decoder_size - 1:\n",
        "          target = decoder_inputs[batch_idx][length_idx + 1]\n",
        "        if length_idx == decoder_size - 1 or target == 0:\n",
        "          batch_weight[batch_idx] = 0.0\n",
        "      batch_weights.append(batch_weight)\n",
        "    return batch_encoder_inputs, batch_decoder_inputs, batch_weights"
      ],
      "execution_count": 0,
      "outputs": []
    },
    {
      "metadata": {
        "id": "uXZQAZIRMrkV",
        "colab_type": "code",
        "colab": {}
      },
      "cell_type": "code",
      "source": [
        "tf.reset_default_graph() "
      ],
      "execution_count": 0,
      "outputs": []
    },
    {
      "metadata": {
        "id": "2422gRL7aVwl",
        "colab_type": "code",
        "colab": {}
      },
      "cell_type": "code",
      "source": [
        "#defining the sequence to sequence model\n",
        "\n",
        "def get_seq2seq_model(session, forward_only, model_dir):\n",
        "    model = Seq2SeqModel(\n",
        "            source_vocab_size=len(questions_dictionary_word_to_idx),\n",
        "            target_vocab_size=len(answers_dictionary_word_to_idx),\n",
        "            buckets=buckets,\n",
        "            size=64,\n",
        "            num_layers=2,\n",
        "            max_gradient_norm=5.0,\n",
        "            batch_size=64,\n",
        "            learning_rate=0.5,\n",
        "            learning_rate_decay_factor=0.99,\n",
        "            forward_only=forward_only)\n",
        "    ckpt = tf.train.get_checkpoint_state(model_dir)\n",
        "    if ckpt and tf.train.checkpoint_exists(ckpt.model_checkpoint_path):\n",
        "        print(\"Reading model parameters from {}\".format(ckpt.model_checkpoint_path))\n",
        "        model.saver.restore(session, ckpt.model_checkpoint_path)\n",
        "    else:\n",
        "        print(\"Created model with fresh parameters.\")\n",
        "        session.run(tf.global_variables_initializer())\n",
        "    return model"
      ],
      "execution_count": 0,
      "outputs": []
    },
    {
      "metadata": {
        "id": "lleD9763cUs8",
        "colab_type": "code",
        "colab": {}
      },
      "cell_type": "code",
      "source": [
        "def train():\n",
        "    with tf.Session() as sess:\n",
        "        model = get_seq2seq_model(sess, False, model_dir)\n",
        "        # This is the training loop.\n",
        "        step_time, loss = 0.0, 0.0\n",
        "        current_step = 0\n",
        "        bucket = 0\n",
        "        steps_per_checkpoint = 100\n",
        "        max_steps = 20000\n",
        "        while current_step < max_steps:\n",
        "            start_time = time.time()\n",
        "            encoder_inputs, decoder_inputs, target_weights = model.get_batch([data_set], bucket)\n",
        "            _, step_loss, _ = model.step(sess, encoder_inputs, decoder_inputs, target_weights, bucket, False)\n",
        "            step_time += (time.time() - start_time) / steps_per_checkpoint\n",
        "            loss += step_loss / steps_per_checkpoint\n",
        "            current_step += 1\n",
        "            if current_step % steps_per_checkpoint == 0:\n",
        "                perplexity = math.exp(float(loss)) if loss < 300 else float(\"inf\")\n",
        "                print (\"global step {} learning rate {} step-time {} perplexity {}\".format(\n",
        "                model.global_step.eval(), model.learning_rate.eval(), step_time, perplexity))\n",
        "                sess.run(model.learning_rate_decay_op)\n",
        "                model.saver.save(sess, model_checkpoints, global_step=model.global_step)\n",
        "                step_time, loss = 0.0, 0.0\n",
        "                encoder_inputs, decoder_inputs, target_weights = model.get_batch([data_set], bucket)\n",
        "                _, eval_loss, _ = model.step(sess, encoder_inputs, decoder_inputs, target_weights, bucket, True)\n",
        "                eval_ppx = math.exp(float(eval_loss)) if eval_loss < 300 else float(\"inf\")\n",
        "                print(\" eval: perplexity {}\".format(eval_ppx))\n",
        "                sys.stdout.flush()  "
      ],
      "execution_count": 0,
      "outputs": []
    },
    {
      "metadata": {
        "id": "KhQNJveTlPn6",
        "colab_type": "code",
        "colab": {}
      },
      "cell_type": "code",
      "source": [
        "\n",
        "train()"
      ],
      "execution_count": 0,
      "outputs": []
    },
    {
      "metadata": {
        "id": "uqnfncaGTYbO",
        "colab_type": "code",
        "colab": {}
      },
      "cell_type": "code",
      "source": [
        ""
      ],
      "execution_count": 0,
      "outputs": []
    }
  ]
}